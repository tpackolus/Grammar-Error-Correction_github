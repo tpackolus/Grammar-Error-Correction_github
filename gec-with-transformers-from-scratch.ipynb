{
 "cells": [
  {
   "cell_type": "code",
   "execution_count": null,
   "metadata": {
    "jupyter": {
     "outputs_hidden": false
    },
    "papermill": {
     "duration": 3.111993,
     "end_time": "2022-09-17T10:23:35.848322",
     "exception": false,
     "start_time": "2022-09-17T10:23:32.736329",
     "status": "completed"
    },
    "pycharm": {
     "name": "#%%\n"
    },
    "tags": []
   },
   "outputs": [],
   "source": [
    "import nltk.translate.chrf_score\n",
    "# Import libraries\n",
    "import torch\n",
    "import pathlib as pl\n",
    "import random\n",
    "import matplotlib.pyplot as plt\n",
    "%matplotlib inline\n",
    "#plt.switch_backend('agg')\n",
    "\n",
    "# del transformer\n",
    "# torch.cuda.empty_cache()"
   ]
  },
  {
   "cell_type": "code",
   "execution_count": null,
   "metadata": {},
   "outputs": [],
   "source": [
    "# import pandas as pd\n",
    "\n",
    "# def explore_tsv_structure(tsv_file):\n",
    "#     df = pd.read_csv(tsv_file, sep='\\t')\n",
    "#     print(\"TSV file structure:\")\n",
    "#     print(df.head())\n",
    "#     print(\"Columns:\")\n",
    "#     print(df.columns)\n",
    "#     print(\"Number of rows:\", len(df))\n",
    "\n",
    "# tsv_file = \"/kaggle/input/c4200m/C4_200M.tsv-00000-of-00010\"\n",
    "# explore_tsv_structure(tsv_file)"
   ]
  },
  {
   "cell_type": "markdown",
   "metadata": {
    "papermill": {
     "duration": 0.007249,
     "end_time": "2022-09-17T10:23:35.864234",
     "exception": false,
     "start_time": "2022-09-17T10:23:35.856985",
     "status": "completed"
    },
    "pycharm": {
     "name": "#%% md\n"
    },
    "tags": []
   },
   "source": [
    "Grammar Error Correction with Transformers\n",
    "======================================================\n",
    "\n",
    "This notebook shows how to train a GEC model based on transformers and experiments with Transformer architecture in order to better understand how changes in the model architecture and in the training reflect in different performances.\n",
    "\n",
    "## Table of Contents\n",
    "\n",
    "- [1. Data Sourcing and Processing](#1)\n",
    "    - Tokenizing and Embedding\n",
    "    - Collation\n",
    "- [2. Seq2Seq Network using Transformer](#2)\n",
    "    - Positional encoding\n",
    "    - Multi-head attention\n",
    "- [3. Model definition](#3)\n",
    "- [4. Training](#4)\n",
    "- [5. Evaluation](#5)\n",
    "    - Greedy Search Inference\n",
    "    - Performance evaluation\n",
    "- [6. Experiments](#6)\n",
    "- [7. Results](#7)\n",
    "- [8. References](#8)"
   ]
  },
  {
   "cell_type": "markdown",
   "metadata": {
    "papermill": {
     "duration": 0.00709,
     "end_time": "2022-09-17T10:23:35.878553",
     "exception": false,
     "start_time": "2022-09-17T10:23:35.871463",
     "status": "completed"
    },
    "pycharm": {
     "name": "#%% md\n"
    },
    "tags": []
   },
   "source": [
    "<a name='1'></a>\n",
    "# 1. Data Sourcing and Processing\n",
    "\n",
    "C4 200M dataset from Google Research is used in this notebook. You can find more information about the C4 200M dataset on Google Research's [BEA 2021 paper](https://aclanthology.org/2021.bea-1.4/) (Stahlberg and Kumar, 2021).\n",
    "\n",
    "The already [processed dataset](https://huggingface.co/datasets/liweili/c4_200m) was extracted from Huggingface in CSV format, then was transformed to HDF5 format for better manageability. The conversion process is detailed in ``utils.py``, and was based on this [notebook](https://github.com/rasbt/deeplearning-models/blob/master/pytorch_ipynb/mechanics/custom-data-loader-csv.ipynb).\n",
    "The final version of the dataset is uploaded on [Kaggle](https://www.kaggle.com/datasets/dariocioni/c4200m).\n",
    "\n",
    "A custom class ``Hdf5Dataset`` based on ``torch.utils.data.Dataset`` is developed, which yields a pair of source-target raw sentences.\n",
    "\n",
    "| source                                             | target                                                  |\n",
    "|----------------------------------------------------|---------------------------------------------------------|\n",
    "| Much many brands and sellers still in the market.  | Many brands and sellers still in the market.            |\n",
    "| She likes playing in park and come here every week | She likes playing in the park and comes here every week |\n",
    "\n",
    "To be able to train on a arbitrary subset of a single file, the dataset only reads chunks of length ``num_entries`` if the parameter is specified . In order to capture more examples, a different chunk can be randomly chosen at each epoch by specifying ``randomized=True``"
   ]
  },
  {
   "cell_type": "code",
   "execution_count": null,
   "metadata": {
    "jupyter": {
     "outputs_hidden": false
    },
    "papermill": {
     "duration": 0.146249,
     "end_time": "2022-09-17T10:23:36.032088",
     "exception": false,
     "start_time": "2022-09-17T10:23:35.885839",
     "status": "completed"
    },
    "pycharm": {
     "name": "#%%\n"
    },
    "tags": []
   },
   "outputs": [],
   "source": [
    "import h5py\n",
    "from torch.utils.data import Dataset\n",
    "random.seed(42)\n",
    "\n",
    "class Hdf5Dataset(Dataset):\n",
    "    \"\"\"Custom Dataset for loading entries from HDF5 databases\"\"\"\n",
    "\n",
    "    def __init__(self, h5_path, transform=None,num_entries = None,randomized=False):\n",
    "\n",
    "        self.h5f = h5py.File(h5_path, 'r')\n",
    "        self.size = self.h5f['labels'].shape[0]\n",
    "        self.transform = transform\n",
    "        self.randomized = randomized\n",
    "        self.max_index = num_entries if num_entries is not None else self.size\n",
    "        #Chooses an offset for the dataset when using a subset of a Hdf5 file\n",
    "        if randomized:\n",
    "            self.offset = random.choice(range(0,self.size//self.max_index))*self.max_index\n",
    "        else:\n",
    "            self.offset = 0\n",
    "\n",
    "\n",
    "    def __getitem__(self, index):\n",
    "        if index > self.max_index:\n",
    "            raise StopIteration\n",
    "        input = self.h5f['input'][self.offset+index].decode('utf-8')\n",
    "        label = self.h5f['labels'][self.offset+index].decode('utf-8')\n",
    "        if self.transform is not None:\n",
    "            features = self.transform(input)\n",
    "        return input, label\n",
    "\n",
    "    def __len__(self):\n",
    "        return self.max_index\n",
    "\n",
    "    def reshuffle(self):\n",
    "        if self.randomized:\n",
    "            self.offset = random.choice(range(0,self.size//self.max_index))*self.max_index\n",
    "        else:\n",
    "            print(\"Please set randomized=True\")"
   ]
  },
  {
   "cell_type": "code",
   "execution_count": null,
   "metadata": {
    "jupyter": {
     "outputs_hidden": false
    },
    "papermill": {
     "duration": 0.085826,
     "end_time": "2022-09-17T10:23:36.125621",
     "exception": false,
     "start_time": "2022-09-17T10:23:36.039795",
     "status": "completed"
    },
    "pycharm": {
     "name": "#%%\n"
    },
    "tags": []
   },
   "outputs": [],
   "source": [
    "import os\n",
    "from typing import List\n",
    "from tqdm import tqdm\n",
    "from torchtext.data import get_tokenizer\n",
    "\n",
    "# Configuration parameters\n",
    "SRC_LANGUAGE = 'incorrect'\n",
    "TGT_LANGUAGE = 'correct'\n",
    "MAX_LENGTH = 500\n",
    "VOCAB_SIZE = 50000  # Was initially set to 20000\n",
    "\n",
    "TRAIN_SAMPLES = 1000000\n",
    "VALID_SAMPLES = 10000\n",
    "\n",
    "# Place-holders\n",
    "vocab_transform = {}\n",
    "\n",
    "token_transform = get_tokenizer(\"basic_english\")\n",
    "\n",
    "# Paths configuration\n",
    "data_dir = '/home/harahus/Grammar-Error-Correction_github/data/'\n",
    "vocab_dir = '/home/harahus/Grammar-Error-Correction_github/vocab/'\n",
    "train_filename = f'{data_dir}C4_200M.hdf5-00001-of-00010'\n",
    "valid_filename = train_filename\n",
    "test_filename = train_filename\n",
    "src_vocab_path = f'{vocab_dir}vocab_50K.pth'\n",
    "tgt_vocab_path = src_vocab_path  # src and target vocab are the same\n",
    "checkpoint_folder = data_dir\n",
    "\n",
    "# Diagnostic checks\n",
    "print(f\"Current working directory: {os.getcwd()}\")\n",
    "print(f\"Files in {data_dir}: {os.listdir(data_dir)}\")\n",
    "\n",
    "# Check if data files exist\n",
    "data_files = [train_filename, valid_filename, test_filename]\n",
    "for filename in data_files:\n",
    "    if os.path.exists(filename):\n",
    "        print(f\"Data file {filename} exists!\")\n",
    "    else:\n",
    "        print(f\"Data file {filename} does not exist!\")\n"
   ]
  },
  {
   "cell_type": "code",
   "execution_count": null,
   "metadata": {
    "jupyter": {
     "outputs_hidden": false
    },
    "papermill": {
     "duration": 0.209788,
     "end_time": "2022-09-17T10:23:36.357832",
     "exception": false,
     "start_time": "2022-09-17T10:23:36.148044",
     "status": "completed"
    },
    "pycharm": {
     "name": "#%%\n"
    },
    "tags": []
   },
   "outputs": [],
   "source": [
    "import torchtext as text\n",
    "import numpy as np\n",
    "import torch\n",
    "\n",
    "UNK_IDX, PAD_IDX, BOS_IDX, EOS_IDX = 0, 1, 2, 3\n",
    "# # Make sure the tokens are in order of their indices to properly insert them in vocab\n",
    "special_symbols = ['<UNK>','<PAD>', '<BOS>', '<EOS>']\n",
    "\n",
    "vocab_transform[SRC_LANGUAGE] = torch.load(src_vocab_path)\n",
    "vocab_transform[TGT_LANGUAGE] = torch.load(tgt_vocab_path)\n",
    "\n",
    "#Procedure for pretrained embeddings. Not fitting into memory\n",
    "# def pretrained_embs(name: str, dim: str,max_vectors: int=None):\n",
    "#     glove_vectors = text.vocab.GloVe(name=name,dim=dim,max_vectors=max_vectors)\n",
    "#     glove_vocab = text.vocab.vocab(glove_vectors.stoi)\n",
    "#     pretrained_embeddings = glove_vectors.vectors\n",
    "#     glove_vocab.insert_token('<UNK>',UNK_IDX)\n",
    "#     pretrained_embeddings = torch.cat((torch.mean(pretrained_embeddings,dim=0,keepdims=True),pretrained_embeddings))\n",
    "#     glove_vocab.insert_token('<PAD>',PAD_IDX)\n",
    "#     pretrained_embeddings = torch.cat((torch.zeros(1,pretrained_embeddings.shape[1]),pretrained_embeddings))\n",
    "#     glove_vocab.insert_token('<BOS>',PAD_IDX)\n",
    "#     pretrained_embeddings = torch.cat((torch.rand(1,pretrained_embeddings.shape[1]),pretrained_embeddings))\n",
    "#     glove_vocab.insert_token('<EOS>',PAD_IDX)\n",
    "#     pretrained_embeddings = torch.cat((torch.rand(1,pretrained_embeddings.shape[1]),pretrained_embeddings))\n",
    "#     glove_vocab.set_default_index(UNK_IDX)\n",
    "#     return glove_vocab,pretrained_embeddings\n",
    "# vocab, embeddings = pretrained_embs('42B','100',50000)"
   ]
  },
  {
   "cell_type": "markdown",
   "metadata": {
    "papermill": {
     "duration": 0.007479,
     "end_time": "2022-09-17T10:23:36.373042",
     "exception": false,
     "start_time": "2022-09-17T10:23:36.365563",
     "status": "completed"
    },
    "pycharm": {
     "name": "#%% md\n"
    },
    "tags": []
   },
   "source": [
    "### Collation\n",
    "\n",
    "An iterator over ``Hdf5dataset`` yields a pair of raw strings.\n",
    "We need to convert these string pairs into the batched tensors that can be processed by our ``Seq2Seq`` network.\n",
    "Below I defined a collate function that converts batch of raw strings into batch tensors that can be fed directly into the model."
   ]
  },
  {
   "cell_type": "code",
   "execution_count": null,
   "metadata": {
    "jupyter": {
     "outputs_hidden": false
    },
    "papermill": {
     "duration": 0.130625,
     "end_time": "2022-09-17T10:23:36.511423",
     "exception": false,
     "start_time": "2022-09-17T10:23:36.380798",
     "status": "completed"
    },
    "pycharm": {
     "name": "#%%\n"
    },
    "tags": []
   },
   "outputs": [],
   "source": [
    "from torch.nn.utils.rnn import pad_sequence\n",
    "\n",
    "# helper function to club together sequential operations\n",
    "def sequential_transforms(*transforms):\n",
    "    def func(txt_input):\n",
    "        for transform in transforms:\n",
    "            txt_input = transform(txt_input)\n",
    "        return txt_input\n",
    "    return func\n",
    "\n",
    "# function to add BOS/EOS and create tensor for input sequence indices\n",
    "def tensor_transform(token_ids: List[int]):\n",
    "    #truncate sequences longer than MAX_LENGTH\n",
    "    if(len(token_ids) > MAX_LENGTH - 2):\n",
    "        token_ids = token_ids[0:MAX_LENGTH -2]\n",
    "    return torch.cat((torch.tensor([BOS_IDX]),\n",
    "                      torch.tensor(token_ids),\n",
    "                      torch.tensor([EOS_IDX])))\n",
    "\n",
    "# src and tgt language text transforms to convert raw strings into tensors indices\n",
    "text_transform = {}\n",
    "for ln in [SRC_LANGUAGE, TGT_LANGUAGE]:\n",
    "    text_transform[ln] = sequential_transforms(token_transform,\n",
    "                                           vocab_transform[ln],\n",
    "                                           tensor_transform) # Add BOS/EOS and create tensor\n",
    "\n",
    "\n",
    "# function to collate data samples into batch tesors\n",
    "def collate_fn(batch):\n",
    "    src_batch, tgt_batch = [], []\n",
    "    for src_sample, tgt_sample in batch:\n",
    "        src_batch.append(text_transform[SRC_LANGUAGE](src_sample.rstrip(\"\\n\")))\n",
    "        tgt_batch.append(text_transform[TGT_LANGUAGE](tgt_sample.rstrip(\"\\n\")))\n",
    "    src_batch = pad_sequence(src_batch, padding_value=PAD_IDX)\n",
    "    tgt_batch = pad_sequence(tgt_batch, padding_value=PAD_IDX)\n",
    "    return src_batch, tgt_batch"
   ]
  },
  {
   "cell_type": "markdown",
   "metadata": {
    "papermill": {
     "duration": 0.007272,
     "end_time": "2022-09-17T10:23:36.526264",
     "exception": false,
     "start_time": "2022-09-17T10:23:36.518992",
     "status": "completed"
    },
    "pycharm": {
     "name": "#%% md\n"
    },
    "tags": []
   },
   "source": [
    "Here's an example of the encoding of the source and target sentences"
   ]
  },
  {
   "cell_type": "code",
   "execution_count": null,
   "metadata": {
    "jupyter": {
     "outputs_hidden": false
    },
    "papermill": {
     "duration": 0.019745,
     "end_time": "2022-09-17T10:23:36.553281",
     "exception": false,
     "start_time": "2022-09-17T10:23:36.533536",
     "status": "completed"
    },
    "pycharm": {
     "name": "#%%\n"
    },
    "tags": []
   },
   "outputs": [],
   "source": [
    "text = ('Data Maining is awesome!','Data Mining is awesome!')\n",
    "src,tgt = collate_fn([text])\n",
    "print(src,tgt)"
   ]
  },
  {
   "cell_type": "markdown",
   "metadata": {
    "papermill": {
     "duration": 0.007266,
     "end_time": "2022-09-17T10:23:36.568504",
     "exception": false,
     "start_time": "2022-09-17T10:23:36.561238",
     "status": "completed"
    },
    "pycharm": {
     "name": "#%% md\n"
    },
    "tags": []
   },
   "source": [
    "<a name='2'></a>\n",
    "# 2. Seq2Seq Network using Transformer\n",
    "\n",
    "Transformer is a Seq2Seq model introduced in [“Attention is all you need”](<https://papers.nips.cc/paper/2017/file/3f5ee243547dee91fbd053c1c4a845aa-Paper.pdf>) paper for solving machine translation tasks.\n",
    "Below, we will create a Seq2Seq network that uses Transformer. The network consists of three parts:\n",
    "1) The embedding layer. This layer converts tensor of input indices into corresponding tensor of input embeddings.\n",
    "    These embedding are further augmented with ``Positional Encodings``, to provide position information of input tokens to the model.\n",
    "2) The actual [Transformer](<https://pytorch.org/docs/stable/generated/torch.nn.Transformer.html>) model.\n",
    "3) The output of Transformer model is finally passed through a linear layer that give un-normalized probabilities for each token in the target language.\n",
    "\n",
    "### Positional Encoding\n",
    "Differently from RNNs, Transformers don't have a notion of relative or absolute position of the tokens in the input.\n",
    "One solution is to combine the input embeddings with positional embeddings, specific to each position in an input sequence.\n",
    "A solution that is not biased towards the initial positions consists in a combination of sine and cosine functions of different frequencies ([Vaswani et al. ,2017](<https://papers.nips.cc/paper/2017/file/3f5ee243547dee91fbd053c1c4a845aa-Paper.pdf>))\n",
    "\n",
    "Given an embedding of length $d$, a position in the sequence $pos$ and the $i$-th dimension of the embedding, the position embedding is calculated as\n",
    "\n",
    "$$PE_{(pos,2i)} = \\sin(pos/10000^{2i/d})\\quad,\\quad PE_{(pos,2i+1)} = \\cos(pos/10000^{2i/d})$$\n",
    "\n",
    "Dropout is also added to the sums of the embeddings and the positional encodings in both the encoder and decoder.\n",
    "\n",
    "<img src=\"https://github.com/ciodar/GEC_Methods/blob/master/img/pos_enc.png?raw=true\">\n",
    "\n",
    "### Multi-head attention\n",
    "A single transformer block cannot capture all the different kinds of simultaneous relations among its inputs.\n",
    "To address this problem, Transformers can use multiple self-attention heads, residing in parallel layers and with different parameter sets.\n",
    "Each head $i$ will have a different set of key, query and value matrices $W_i^K,W_i^Q,W_i^V$ and will project into different embeddings for each head.\n",
    "The different embeddings are finally reduced to the original input dimension, using a trainable linear projection $W^O$\n",
    "\n",
    "<img src=\"https://github.com/ciodar/GEC_Methods/blob/master/img/multihead.png?raw=true\">\n",
    "\n",
    "\n"
   ]
  },
  {
   "cell_type": "code",
   "execution_count": null,
   "metadata": {
    "jupyter": {
     "outputs_hidden": false
    },
    "papermill": {
     "duration": 0.084901,
     "end_time": "2022-09-17T10:23:36.660834",
     "exception": false,
     "start_time": "2022-09-17T10:23:36.575933",
     "status": "completed"
    },
    "pycharm": {
     "name": "#%%\n"
    },
    "tags": []
   },
   "outputs": [],
   "source": [
    "from torch import Tensor\n",
    "import torch\n",
    "import torch.nn as nn\n",
    "from torch.nn import Transformer\n",
    "\n",
    "import math\n",
    "DEVICE = torch.device('cuda:0' if torch.cuda.is_available() else 'cpu')\n",
    "\n",
    "# helper Module that adds positional encoding to the token embedding to introduce a notion of word order.\n",
    "class PositionalEncoding(nn.Module):\n",
    "    def __init__(self,\n",
    "                 emb_size: int,\n",
    "                 dropout: float,\n",
    "                 maxlen: int = 5000):\n",
    "        super(PositionalEncoding, self).__init__()\n",
    "        den = torch.exp(- torch.arange(0, emb_size, 2)* math.log(10000) / emb_size)\n",
    "        pos = torch.arange(0, maxlen).reshape(maxlen, 1)\n",
    "        pos_embedding = torch.zeros((maxlen, emb_size))\n",
    "        pos_embedding[:, 0::2] = torch.sin(pos * den)\n",
    "        pos_embedding[:, 1::2] = torch.cos(pos * den)\n",
    "        pos_embedding = pos_embedding.unsqueeze(-2)\n",
    "\n",
    "        self.dropout = nn.Dropout(dropout)\n",
    "        self.register_buffer('pos_embedding', pos_embedding)\n",
    "\n",
    "    def forward(self, token_embedding: Tensor):\n",
    "        return self.dropout(token_embedding + self.pos_embedding[:token_embedding.size(0), :])\n",
    "\n",
    "# helper Module to convert tensor of input indices into corresponding tensor of token embeddings\n",
    "class TokenEmbedding(nn.Module):\n",
    "    def __init__(self, vocab_size: int, emb_size,embedding_weights=None):\n",
    "        super(TokenEmbedding, self).__init__()\n",
    "        if embedding_weights is not None:\n",
    "            self.embedding = nn.Embedding.from_pretrained(embedding_weights,freeze=True,padding_idx=PAD_IDX)\n",
    "        else:\n",
    "            self.embedding = nn.Embedding(vocab_size, emb_size)\n",
    "\n",
    "            # self.embedding.weight.requires_grad =False\n",
    "        self.emb_size = emb_size\n",
    "\n",
    "    def forward(self, tokens: Tensor):\n",
    "        return self.embedding(tokens.long()) * math.sqrt(self.emb_size)\n",
    "\n",
    "# Seq2Seq Network \n",
    "class Seq2SeqTransformer(nn.Module):\n",
    "    def __init__(self,\n",
    "                 num_encoder_layers: int,\n",
    "                 num_decoder_layers: int,\n",
    "                 emb_size: int,\n",
    "                 nhead: int,\n",
    "                 src_vocab_size: int,\n",
    "                 tgt_vocab_size: int,\n",
    "                 dim_feedforward: int = 100,\n",
    "                 dropout: float = 0.0,\n",
    "                 embedding_weights = None):\n",
    "        super(Seq2SeqTransformer, self).__init__()\n",
    "        self.transformer = Transformer(d_model=emb_size,\n",
    "                                       nhead=nhead,\n",
    "                                       num_encoder_layers=num_encoder_layers,\n",
    "                                       num_decoder_layers=num_decoder_layers,\n",
    "                                       dim_feedforward=dim_feedforward,\n",
    "                                       dropout=dropout)\n",
    "        self.generator = nn.Linear(emb_size, tgt_vocab_size)\n",
    "        self.src_tok_emb = TokenEmbedding(src_vocab_size, emb_size,embedding_weights)\n",
    "        self.tgt_tok_emb = TokenEmbedding(tgt_vocab_size, emb_size,embedding_weights)\n",
    "        self.positional_encoding = PositionalEncoding(\n",
    "            emb_size, dropout=dropout)\n",
    "\n",
    "    def forward(self,\n",
    "                src: Tensor,\n",
    "                trg: Tensor,\n",
    "                src_mask: Tensor,\n",
    "                tgt_mask: Tensor,\n",
    "                src_padding_mask: Tensor,\n",
    "                tgt_padding_mask: Tensor,\n",
    "                memory_key_padding_mask: Tensor):\n",
    "        src_emb = self.positional_encoding(self.src_tok_emb(src))\n",
    "        tgt_emb = self.positional_encoding(self.tgt_tok_emb(trg))\n",
    "        outs = self.transformer(src_emb, tgt_emb, src_mask, tgt_mask, None, \n",
    "                                src_padding_mask, tgt_padding_mask, memory_key_padding_mask)\n",
    "        return self.generator(outs)\n",
    "    \n",
    "    def create_mask(src, tgt):\n",
    "        src_seq_len = src.shape[0]\n",
    "        tgt_seq_len = tgt.shape[0]\n",
    "\n",
    "        def generate_square_subsequent_mask(sz):\n",
    "            mask = (torch.triu(torch.ones((sz, sz), device=DEVICE)) == 1).transpose(0, 1)\n",
    "            mask = mask.float().masked_fill(mask == 0, float('-inf')).masked_fill(mask == 1, float(0.0))\n",
    "            return mask\n",
    "        \n",
    "        tgt_mask = generate_square_subsequent_mask(tgt_seq_len)\n",
    "        src_mask = torch.zeros((src_seq_len, src_seq_len),device=DEVICE).type(torch.bool)\n",
    "\n",
    "        src_padding_mask = (src == PAD_IDX).transpose(0, 1)\n",
    "        tgt_padding_mask = (tgt == PAD_IDX).transpose(0, 1)\n",
    "\n",
    "        return src_mask, tgt_mask, src_padding_mask, tgt_padding_mask\n",
    "    \n",
    "\n",
    "    def encode(self, src: Tensor, src_mask: Tensor, src_padding_mask: Tensor = None):\n",
    "        return self.transformer.encoder(self.positional_encoding(\n",
    "                            self.src_tok_emb(src)), src_mask, src_padding_mask)\n",
    "\n",
    "    def decode(self, tgt: Tensor, memory: Tensor, tgt_mask: Tensor):\n",
    "        return self.transformer.decoder(self.positional_encoding(\n",
    "                          self.tgt_tok_emb(tgt)), memory,\n",
    "                          tgt_mask)"
   ]
  },
  {
   "cell_type": "markdown",
   "metadata": {
    "papermill": {
     "duration": 0.007227,
     "end_time": "2022-09-17T10:23:36.675711",
     "exception": false,
     "start_time": "2022-09-17T10:23:36.668484",
     "status": "completed"
    },
    "pycharm": {
     "name": "#%% md\n"
    },
    "tags": []
   },
   "source": [
    "Two different sets of masks are needed during training:\n",
    "- A subsequent word mask that will prevent model to look into the future words when making predictions.\n",
    "- A mask to hide source and target padding tokens and prevent to compute attention on them."
   ]
  },
  {
   "cell_type": "code",
   "execution_count": null,
   "metadata": {
    "jupyter": {
     "outputs_hidden": false
    },
    "papermill": {
     "duration": 0.016907,
     "end_time": "2022-09-17T10:23:36.699935",
     "exception": false,
     "start_time": "2022-09-17T10:23:36.683028",
     "status": "completed"
    },
    "pycharm": {
     "name": "#%%\n"
    },
    "tags": []
   },
   "outputs": [],
   "source": [
    "def generate_square_subsequent_mask(sz):\n",
    "    mask = (torch.triu(torch.ones((sz, sz), device=DEVICE)) == 1).transpose(0, 1)\n",
    "    mask = mask.float().masked_fill(mask == 0, float('-inf')).masked_fill(mask == 1, float(0.0))\n",
    "    return mask\n",
    "\n",
    "\n",
    "def create_mask(src, tgt, repeat_size=-1):\n",
    "    src_seq_len = src.shape[0]\n",
    "    tgt_seq_len = tgt.shape[0]\n",
    "        \n",
    "    tgt_mask = generate_square_subsequent_mask(tgt_seq_len)\n",
    "    src_mask = torch.zeros((src_seq_len, src_seq_len),device=DEVICE).type(torch.bool)\n",
    "\n",
    "    src_padding_mask = (src == PAD_IDX).transpose(0, 1)\n",
    "    tgt_padding_mask = (tgt == PAD_IDX).transpose(0, 1)\n",
    "    \n",
    "    if repeat_size != -1:\n",
    "        tgt_mask = tgt_mask.repeat(repeat_size, 1, 1)\n",
    "        src_mask = src_mask.repeat(repeat_size, 1, 1)\n",
    "        tgt_padding_mask = tgt_padding_mask.repeat(repeat_size, 1, 1)\n",
    "        src_padding_mask = src_padding_mask.repeat(repeat_size, 1, 1)\n",
    "\n",
    "    return src_mask, tgt_mask, src_padding_mask, tgt_padding_mask"
   ]
  },
  {
   "cell_type": "code",
   "execution_count": null,
   "metadata": {
    "jupyter": {
     "outputs_hidden": false
    },
    "papermill": {
     "duration": 3.224235,
     "end_time": "2022-09-17T10:23:39.931522",
     "exception": false,
     "start_time": "2022-09-17T10:23:36.707287",
     "status": "completed"
    },
    "pycharm": {
     "name": "#%%\n"
    },
    "tags": []
   },
   "outputs": [],
   "source": [
    "example_mask = create_mask(src,tgt)\n",
    "_ = plt.imshow(example_mask[1].cpu(),cmap='hot')\n",
    "plt.show()"
   ]
  },
  {
   "cell_type": "code",
   "execution_count": null,
   "metadata": {},
   "outputs": [],
   "source": [
    "def count_parameters(model):\n",
    "    return sum(p.numel() for p in model.parameters() if p.requires_grad)"
   ]
  },
  {
   "cell_type": "markdown",
   "metadata": {
    "papermill": {
     "duration": 0.007699,
     "end_time": "2022-09-17T10:23:39.947047",
     "exception": false,
     "start_time": "2022-09-17T10:23:39.939348",
     "status": "completed"
    },
    "pycharm": {
     "name": "#%% md\n"
    },
    "tags": []
   },
   "source": [
    "<a name=\"3\"></a>\n",
    "# 3. Model definition\n",
    "The network is instantiated as a  ``Seq2SeqTransformer`` object, where the following hyperparameters can be changed:\n",
    "- Embedding Size\n",
    "- Number of Transformer layers in the Encoder and Decoder\n",
    "- Units in the Feed Forward Network\n",
    "- Number of attention heads\n",
    "- The dropout between each sublayer of the Transformer and in the sum of the embeddings with the positional encoding\n"
   ]
  },
  {
   "cell_type": "code",
   "execution_count": null,
   "metadata": {
    "jupyter": {
     "outputs_hidden": false
    },
    "papermill": {
     "duration": 1.205852,
     "end_time": "2022-09-17T10:23:41.160514",
     "exception": false,
     "start_time": "2022-09-17T10:23:39.954662",
     "status": "completed"
    },
    "pycharm": {
     "name": "#%%\n"
    },
    "tags": []
   },
   "outputs": [],
   "source": [
    "torch.manual_seed(0)\n",
    "\n",
    "VOCAB_SIZE = len(vocab_transform[SRC_LANGUAGE].vocab.itos_) # 50k\n",
    "EMB_SIZE = 512\n",
    "NHEAD = 8\n",
    "FFN_HID_DIM = 1024\n",
    "BATCH_SIZE = 24\n",
    "NUM_ENCODER_LAYERS = 6\n",
    "NUM_DECODER_LAYERS = 6\n",
    "\n",
    "#To save and retrieve checkpoints\n",
    "model_name = 'transformer_%dE_%dH_%dF_%d_%d.pt'%(EMB_SIZE,NHEAD,FFN_HID_DIM,NUM_DECODER_LAYERS,NUM_DECODER_LAYERS)\n",
    "\n",
    "transformer = Seq2SeqTransformer(NUM_ENCODER_LAYERS, NUM_DECODER_LAYERS, EMB_SIZE, \n",
    "                                 NHEAD, VOCAB_SIZE, VOCAB_SIZE, FFN_HID_DIM)\n",
    "\n",
    "print(f\"The model has {count_parameters(transformer):,} trainable parameters\")\n",
    "\n",
    "for p in transformer.parameters():\n",
    "    if p.dim() > 1:\n",
    "        nn.init.xavier_uniform_(p)\n",
    "\n",
    "#transformer = nn.DataParallel(transformer, device_ids=[0,1])\n",
    "\"\"\"\n",
    "https://stackoverflow.com/questions/70676122/when-training-in-transformer-with-multi-gpu-the-shape-of-mask-would-get-divided\n",
    "\"\"\"\n",
    "transformer = transformer.to(DEVICE)\n",
    "\n",
    "loss_fn = torch.nn.CrossEntropyLoss(ignore_index=PAD_IDX,label_smoothing=0.1)\n",
    "\n",
    "optimizer = torch.optim.Adam(transformer.parameters(), lr=0.0001, betas=(0.9, 0.98), eps=1e-8)"
   ]
  },
  {
   "cell_type": "code",
   "execution_count": null,
   "metadata": {
    "jupyter": {
     "outputs_hidden": false
    },
    "papermill": {
     "duration": 0.021558,
     "end_time": "2022-09-17T10:23:41.189942",
     "exception": false,
     "start_time": "2022-09-17T10:23:41.168384",
     "status": "completed"
    },
    "pycharm": {
     "name": "#%%\n"
    },
    "tags": []
   },
   "outputs": [],
   "source": [
    "from torch.utils.data import DataLoader\n",
    "from torch.utils.data import IterableDataset\n",
    "\n",
    "def train_epoch(model, optimizer):\n",
    "    model.train()\n",
    "    losses = 0\n",
    "    train_iter = Hdf5Dataset(train_filename,num_entries=TRAIN_SAMPLES,randomized=True)\n",
    "    train_dataloader = DataLoader(train_iter, batch_size=BATCH_SIZE, collate_fn=collate_fn)\n",
    "\n",
    "    for src, tgt in train_dataloader:\n",
    "        src = src.to(DEVICE)\n",
    "        tgt = tgt.to(DEVICE)\n",
    "\n",
    "        tgt_input = tgt[:-1, :]\n",
    "\n",
    "        src_mask, tgt_mask, src_padding_mask, tgt_padding_mask = create_mask(src, tgt_input)\n",
    "\n",
    "\n",
    "        logits = model(src, tgt_input, src_mask, tgt_mask, src_padding_mask, tgt_padding_mask, src_padding_mask)\n",
    "\n",
    "        optimizer.zero_grad()\n",
    "\n",
    "        tgt_out = tgt[1:, :]\n",
    "        loss = loss_fn(logits.reshape(-1, logits.shape[-1]), tgt_out.reshape(-1))\n",
    "        loss.backward()\n",
    "\n",
    "        optimizer.step()\n",
    "        losses += loss.item()\n",
    "\n",
    "    return losses / len(train_dataloader)\n",
    "\n",
    "\n",
    "def evaluate(model):\n",
    "    model.eval()\n",
    "    losses = 0\n",
    "\n",
    "    val_iter = Hdf5Dataset(valid_filename,num_entries=VALID_SAMPLES)\n",
    "    val_dataloader = DataLoader(val_iter, batch_size=BATCH_SIZE, collate_fn=collate_fn)\n",
    "\n",
    "    for src, tgt in val_dataloader:\n",
    "        src = src.to(DEVICE)\n",
    "        tgt = tgt.to(DEVICE)\n",
    "\n",
    "        tgt_input = tgt[:-1, :]\n",
    "        src_mask, tgt_mask, src_padding_mask, tgt_padding_mask = create_mask(src, tgt_input)\n",
    "            \n",
    "        with torch.no_grad():\n",
    "            logits = model(src, tgt_input, src_mask, tgt_mask,src_padding_mask, tgt_padding_mask, src_padding_mask)\n",
    "\n",
    "\n",
    "        tgt_out = tgt[1:, :]\n",
    "        loss = loss_fn(logits.reshape(-1, logits.shape[-1]), tgt_out.reshape(-1))\n",
    "        losses += loss.item()\n",
    "\n",
    "    return losses / len(val_dataloader)"
   ]
  },
  {
   "cell_type": "markdown",
   "metadata": {
    "papermill": {
     "duration": 0.007782,
     "end_time": "2022-09-17T10:23:41.205376",
     "exception": false,
     "start_time": "2022-09-17T10:23:41.197594",
     "status": "completed"
    },
    "pycharm": {
     "name": "#%% md\n"
    },
    "tags": []
   },
   "source": [
    "<a name=\"4\"></a>\n",
    "# 4. Training\n",
    "The training is performed on 20 epochs, and a checkpoint is saved at each epoch. The entire training process requires approximately 3 hours to complete on Kaggle.\n",
    "\n",
    "I used the cross-entropy loss as the loss function and Adam optimizer for training.\n",
    "The regularization hyperparameters were chosen as in ([Vaswani et al. ,2017](<https://papers.nips.cc/paper/2017/file/3f5ee243547dee91fbd053c1c4a845aa-Paper.pdf>))\n",
    "\n",
    "- learning rate = $10^{-5}$\n",
    "- $\\beta_1 = 0.9$\n",
    "- $\\beta_2 = 0.98$\n",
    "- $\\hat{\\varepsilon} = 10^{-9}$\n",
    "\n",
    "## Re-Training\n",
    "\n",
    "New parameters:\n",
    "\n",
    "- learning_rate = $10^{-3}$\n",
    "- $\\beta_1 = 0.9$\n",
    "- $\\beta_2 = 0.98$\n",
    "- $\\hat{\\varepsilon} = 10^{-8}$\n",
    "\n",
    "## Label Smoothing\n",
    "Label smoothing is a regularization technique that introduces noise in the labels.\n",
    "This way, we can avoid to obtain a model that is over-confident on certain tokens (ex. the UNK token), and give a lesser probability also on other tokens."
   ]
  },
  {
   "cell_type": "code",
   "execution_count": null,
   "metadata": {},
   "outputs": [],
   "source": [
    "!gdown \"1lMszd3vdpNytwx1pZt9sB2X5MCOK0CWc\""
   ]
  },
  {
   "cell_type": "code",
   "execution_count": null,
   "metadata": {
    "jupyter": {
     "outputs_hidden": false
    },
    "papermill": {
     "duration": 0.013466,
     "end_time": "2022-09-17T10:23:41.226446",
     "exception": false,
     "start_time": "2022-09-17T10:23:41.21298",
     "status": "completed"
    },
    "pycharm": {
     "name": "#%%\n"
    },
    "tags": []
   },
   "outputs": [],
   "source": [
    "# latest_chekpt_file = f\"{pl.Path(checkpoint_folder)}/transformer_1mil_train_512E_8H_1024F_6_6_30_epoch.pt\"\n",
    "# checkpoint = torch.load(latest_chekpt_file)\n",
    "# transformer.load_state_dict(checkpoint['model_state_dict'])\n",
    "# optimizer.load_state_dict(checkpoint['optimizer_state_dict'])\n",
    "# epoch = checkpoint['epoch']\n",
    "# print(epoch)"
   ]
  },
  {
   "cell_type": "code",
   "execution_count": null,
   "metadata": {},
   "outputs": [],
   "source": [
    "from timeit import default_timer as timer\n",
    "NUM_EPOCHS = 5\n",
    "\n",
    "train_losses = []\n",
    "val_losses = []\n",
    "\n",
    "for epoch in range(NUM_EPOCHS+1, 8*NUM_EPOCHS+1):\n",
    "    start_time = timer()\n",
    "    train_loss = train_epoch(transformer, optimizer)\n",
    "    end_time = timer()\n",
    "    val_loss = evaluate(transformer)\n",
    "    print((f\"Epoch: {epoch}, Train loss: {train_loss:.3f}, Val loss: {val_loss:.3f}, \"f\"Epoch time = {(end_time - start_time):.3f}s\"))\n",
    "    train_losses.append(train_loss)\n",
    "    val_losses.append(val_loss)\n",
    "    torch.save({\n",
    "        'epoch': epoch,\n",
    "        'model_state_dict': transformer.state_dict(),\n",
    "        'optimizer_state_dict': optimizer.state_dict(),\n",
    "        'loss': val_loss,\n",
    "    }, pl.Path(checkpoint_folder)/model_name)"
   ]
  },
  {
   "cell_type": "code",
   "execution_count": null,
   "metadata": {
    "jupyter": {
     "outputs_hidden": false
    },
    "papermill": {
     "duration": 0.193306,
     "end_time": "2022-09-17T19:36:39.964582",
     "exception": false,
     "start_time": "2022-09-17T19:36:39.771276",
     "status": "completed"
    },
    "pycharm": {
     "name": "#%%\n"
    },
    "tags": []
   },
   "outputs": [],
   "source": [
    "latest_checkpt_train_losses = [3.230, 2.685, 2.575, 2.512, 2.452, 2.447, 2.413, 2.395, 2.374, 2.364, 2.344, 2.342,\\\n",
    "                               2.336, 2.330, 2.318, 2.310, 2.302, 2.284, 2.295, \\\n",
    "                               2.283, 2.285, 2.275, 2.268, 2.267, 2.261, 2.266, \\\n",
    "                               2.258, 2.263, 2.255, 2.244]\n",
    "latest_checkpt_val_losses = [2.762, 2.622, 2.551, 2.494, 2.471, 2.440, 2.414, 2.393, 2.376, 2.357, 2.349, 2.350, \\\n",
    "                             2.343, 2.336, 2.306, 2.308, 2.303, 2.301, 2.302, \\\n",
    "                             2.292, 2.291, 2.281, 2.262, 2.265, 2.265, 2.271, \\\n",
    "                             2.270, 2.270, 2.258, 2.259]\n",
    "len(latest_checkpt_train_losses), len(latest_checkpt_val_losses)\n",
    "_ = plt.plot(latest_checkpt_train_losses)\n",
    "_ = plt.plot(latest_checkpt_val_losses)"
   ]
  },
  {
   "cell_type": "markdown",
   "metadata": {
    "papermill": {
     "duration": 0.009601,
     "end_time": "2022-09-17T19:36:39.984258",
     "exception": false,
     "start_time": "2022-09-17T19:36:39.974657",
     "status": "completed"
    },
    "pycharm": {
     "name": "#%% md\n"
    },
    "tags": []
   },
   "source": [
    "<a name=\"5\"></a>\n",
    "# 5. Evaluation\n",
    "\n",
    "## Greedy Search inference\n",
    "We can perform corrections of sentences using the ``greedy_decode`` function.\n",
    "In this function, at each timestep the most probable token is selected as correction at each time step, without evaluating its impact on the rest of the sequence.\n",
    "\n",
    "I provide a batched implementation of greedy search for higher inference speed, based on a simplification of [HuggingFace Pytorch implementation](https://github.com/huggingface/transformers/blob/8f2723caf0f1bf7e1f639d28d004f81c96d19bbc/src/transformers/generation_utils.py) .\n",
    "In this implementation, the model is forced to predict only PAD tokens after the character EOS is predicted, using the following formula:\n",
    "\n",
    "$$\\hat{y}_t = \\hat{y}_t * u_t + (1-u_t) * \\text{<PAD>}$$\n",
    "\n",
    "where $\\hat{y}_t$ is a vector containing the index of the highest probability word at time $t$ and $u_t$ is a boolean vector which is set to 1 if a EOS token is has not been predicted yet for the i-th sentence of the batch and 0 otherwise.\n",
    "The prediction ends if $u_t[i] == 0 \\; \\forall  i$ or if the maximum sequence length is reached."
   ]
  },
  {
   "cell_type": "code",
   "execution_count": null,
   "metadata": {
    "jupyter": {
     "outputs_hidden": false
    },
    "papermill": {
     "duration": 0.023503,
     "end_time": "2022-09-17T19:36:40.01755",
     "exception": false,
     "start_time": "2022-09-17T19:36:39.994047",
     "status": "completed"
    },
    "pycharm": {
     "name": "#%%\n"
    },
    "tags": []
   },
   "outputs": [],
   "source": [
    "# function to generate output sequence using greedy algorithm\n",
    "# input: (input_length,batch_size)\n",
    "# output: (input_length)\n",
    "def greedy_decode(model, src, src_mask, src_padding_mask, max_len):\n",
    "    batch_size = src.shape[1]\n",
    "\n",
    "    src = src.to(DEVICE)\n",
    "    src_mask = src_mask.to(DEVICE)\n",
    "    src_padding_mask = src_padding_mask.to(DEVICE)\n",
    "    unfinished_sequences = torch.ones(1,batch_size).to(DEVICE)\n",
    "\n",
    "    context = transformer.encode(src, src_mask,src_padding_mask).to(DEVICE)\n",
    "    ys = torch.ones(1, batch_size).fill_(BOS_IDX).type(torch.long).to(DEVICE)\n",
    "    for i in range(max_len-1):\n",
    "        tgt_mask = (generate_square_subsequent_mask(ys.size(0))\n",
    "                    .type(torch.bool)).to(DEVICE)\n",
    "        out = model.decode(ys, context, tgt_mask)\n",
    "        out = out.transpose(0, 1)\n",
    "        prob = model.generator(out[:, -1])\n",
    "        _, next_word = torch.max(prob,dim=1)\n",
    "\n",
    "        #Predict only PAD_IDX after EOS_IDX is predicted\n",
    "        next_word = next_word * unfinished_sequences + (1-unfinished_sequences) * PAD_IDX\n",
    "        ys = torch.cat([ys,\n",
    "                        next_word], dim=0)\n",
    "\n",
    "        # if eos_token was found in one sentence, set sentence to finished\n",
    "        unfinished_sequences = unfinished_sequences.mul((next_word != EOS_IDX).long())\n",
    "\n",
    "        # stop when each sentence is finished, or if we exceed the maximum length\n",
    "        if unfinished_sequences.max() == 0:\n",
    "            break\n",
    "    return ys.int()\n",
    "\n",
    "\n",
    "# actual function to correct input sentence\n",
    "def correct(src_sentence: str, model: torch.nn.Module):\n",
    "    model.eval()\n",
    "    src = text_transform[SRC_LANGUAGE](src_sentence).view(-1, 1)\n",
    "    num_tokens = src.shape[0]\n",
    "    src_mask = (torch.zeros(num_tokens, num_tokens)).type(torch.bool)\n",
    "    src_padding_mask = (torch.zeros(1, num_tokens)).type(torch.bool)\n",
    "    tgt_tokens = greedy_decode(\n",
    "        model,  src, src_mask,src_padding_mask, max_len=num_tokens + 5).flatten()\n",
    "    return ' '.join([vocab_transform[SRC_LANGUAGE].vocab.itos_[i] for i in tgt_tokens if i not in [PAD_IDX,BOS_IDX,EOS_IDX]])"
   ]
  },
  {
   "cell_type": "markdown",
   "metadata": {
    "papermill": {
     "duration": 0.009496,
     "end_time": "2022-09-17T19:36:40.03679",
     "exception": false,
     "start_time": "2022-09-17T19:36:40.027294",
     "status": "completed"
    },
    "pycharm": {
     "name": "#%% md\n"
    },
    "tags": []
   },
   "source": [
    "A better way could be to use a ``Beam Search``, choosing $k$ tokens at each timestep and then scoring each node with its log probability."
   ]
  },
  {
   "cell_type": "code",
   "execution_count": null,
   "metadata": {
    "jupyter": {
     "outputs_hidden": false
    },
    "papermill": {
     "duration": 0.905467,
     "end_time": "2022-09-17T19:36:40.952006",
     "exception": false,
     "start_time": "2022-09-17T19:36:40.046539",
     "status": "completed"
    },
    "pycharm": {
     "name": "#%%\n"
    },
    "tags": []
   },
   "outputs": [],
   "source": [
    "# checkpoint = torch.load(pl.Path(checkpoint_folder)/model_name)\n",
    "# transformer.load_state_dict(checkpoint['model_state_dict'])\n",
    "\n",
    "transformer.eval()\n",
    "\n",
    "# Pick one in 18M examples\n",
    "test_iter = Hdf5Dataset(test_filename,num_entries=None)\n",
    "\n",
    "src,trg = random.choice(test_iter)\n",
    "\n",
    "print(\"input: \\\"\",src,\"\\\"\")\n",
    "print(\"target: \\\"\",trg,\"\\\"\")\n",
    "\n",
    "prediction = correct(src,transformer)\n",
    "\n",
    "print(\"prediction: \\\"%s\\\"\"%prediction)"
   ]
  },
  {
   "cell_type": "markdown",
   "metadata": {
    "papermill": {
     "duration": 0.015481,
     "end_time": "2022-09-17T19:36:40.984137",
     "exception": false,
     "start_time": "2022-09-17T19:36:40.968656",
     "status": "completed"
    },
    "pycharm": {
     "name": "#%% md\n"
    },
    "tags": []
   },
   "source": [
    "## Performance evaluation\n",
    "Performance is evaluated using the chrF score, which computes an F-score on character $n$-grams ([Popovi ́c, 2015](https://aclanthology.org/W15-3049/)).\n",
    "The formula for the chrF score is\n",
    "\n",
    "$$\\text{chrF}_\\beta = (1+ \\beta^2) \\frac{\\text{chrP} \\cdot \\text{chrR}}{\\beta^2 \\cdot \\text{chrP} + \\text{chrR}}$$\n",
    "\n",
    "where chrP and chrR are $n$-gram precision and recall averaged over all $n$-grams.\n",
    "\n",
    "In the experiments I used character $n$-grams between 1 and 6 and $\\beta=3$. White space between words is ignored during scoring."
   ]
  },
  {
   "cell_type": "code",
   "execution_count": null,
   "metadata": {
    "execution": {
     "iopub.execute_input": "2022-09-17T19:36:41.017537Z",
     "iopub.status.busy": "2022-09-17T19:36:41.017083Z",
     "iopub.status.idle": "2022-09-17T19:36:41.030908Z",
     "shell.execute_reply": "2022-09-17T19:36:41.030193Z"
    },
    "jupyter": {
     "outputs_hidden": false
    },
    "papermill": {
     "duration": 0.033117,
     "end_time": "2022-09-17T19:36:41.033295",
     "exception": false,
     "start_time": "2022-09-17T19:36:41.000178",
     "status": "completed"
    },
    "pycharm": {
     "name": "#%%\n"
    },
    "tags": []
   },
   "outputs": [],
   "source": [
    "from torch.utils.data import DataLoader\n",
    "from nltk.translate import chrf_score,bleu_score\n",
    "import re\n",
    "\n",
    "def test_collate_fn(batch):\n",
    "    src_batch, tgt_batch = [], []\n",
    "    for src_sample, tgt_sample in batch:\n",
    "        src_batch.append(text_transform[SRC_LANGUAGE](src_sample.rstrip(\"\\n\")))\n",
    "        tgt_batch.append(tgt_sample.rstrip(\"\\n\"))\n",
    "\n",
    "    src_batch = pad_sequence(src_batch, padding_value=PAD_IDX)\n",
    "    return src_batch, tgt_batch\n",
    "\n",
    "def test_chrf(model):\n",
    "    model.eval()\n",
    "    score = 0\n",
    "\n",
    "    test_iter = Hdf5Dataset(test_filename,num_entries=VALID_SAMPLES)\n",
    "    test_dataloader = DataLoader(test_iter, batch_size=64,collate_fn=test_collate_fn)\n",
    "\n",
    "    for src, tgt in test_dataloader:\n",
    "        \n",
    "        src_mask, _, src_padding_mask, _ = create_mask(src, src)\n",
    "        num_tokens = src.shape[0]\n",
    "        with torch.no_grad():\n",
    "            pred_tokens = greedy_decode(\n",
    "                model,  src, src_mask,src_padding_mask, max_len=num_tokens + 5).T.flatten()\n",
    "            pred_sentences = ' '.join([vocab_transform[SRC_LANGUAGE].vocab.itos_[i] for i in pred_tokens if i not in [PAD_IDX,BOS_IDX,EOS_IDX]])\n",
    "            pred_sentences = re.sub(r'\\s([?.!,\"](?:\\s|$))', r'\\1', pred_sentences)\n",
    "\n",
    "            score += chrf_score.sentence_chrf(pred_sentences, ' '.join(tgt).lower())\n",
    "\n",
    "    return score / len(test_dataloader)\n",
    "\n",
    "def test_sentence_bleu(model, method_num=0):\n",
    "    model.eval()\n",
    "    \n",
    "    test_iter = Hdf5Dataset(test_filename, num_entries=VALID_SAMPLES)\n",
    "    test_dataloader = DataLoader(test_iter, batch_size=64, collate_fn=test_collate_fn)\n",
    "    \n",
    "    scores = np.zeros(4) # 4 separate cumulative bleu scores\n",
    "    chencherry = bleu_score.SmoothingFunction()\n",
    "    for src, tgt in test_dataloader:\n",
    "        src_mask, _, src_padding_mask, _ = create_mask(src, src)\n",
    "        num_tokens = src.shape[0]\n",
    "        with torch.no_grad():\n",
    "            pred_tokens = greedy_decode(\n",
    "                model,  src, src_mask,src_padding_mask, max_len=num_tokens + 5).T.flatten()\n",
    "            pred_sentences = ' '.join([vocab_transform[SRC_LANGUAGE].vocab.itos_[i] for i in pred_tokens if i not in [PAD_IDX,BOS_IDX,EOS_IDX]])\n",
    "            pred_sentences = re.sub(r'\\s([?.!,\"](?:\\s|$))', r'\\1', pred_sentences)\n",
    "            scores += np.array(bleu_score.sentence_bleu(' '.join(tgt).lower().split(' '), \\\n",
    "                                                        pred_sentences.split(' '), \\\n",
    "                                                        smoothing_function=eval('chencherry.method%d'%method_num), \\\n",
    "                                                        weights=[(1, 0, 0, 0), (0.5, 0.5, 0.0, 0.0), (0.333, 0.333, 0.333, 0.0), (0.25, 0.25, 0.25,0.25)] \\\n",
    "                                                       ) \\\n",
    "                              )\n",
    "\n",
    "    return scores / len(test_dataloader)\n",
    "    \n",
    "def control_sentence_bleu(model, method_num=0):\n",
    "    model.eval()\n",
    "    \n",
    "    test_iter = Hdf5Dataset(test_filename, num_entries=VALID_SAMPLES)\n",
    "    \n",
    "    scores = np.zeros(4) # 4 separate cumulative bleu scores\n",
    "    chencherry = bleu_score.SmoothingFunction()\n",
    "    ctr = 0\n",
    "    for src, tgt in test_iter:\n",
    "        scores += np.array(bleu_score.sentence_bleu(' '.join(tgt).lower().split(' '), \\\n",
    "                                                    ' '.join(src).lower().split(' '), \\\n",
    "                                                    smoothing_function=eval('chencherry.method%d'%method_num), \\\n",
    "                                                    weights=[(1, 0, 0, 0), (0.5, 0.5, 0.0, 0.0), (0.333, 0.333, 0.333, 0.0), (0.25, 0.25, 0.25,0.25)] \\\n",
    "                                                   ) \\\n",
    "                          )\n",
    "        if ctr % 1000 == 0:\n",
    "            print(f\"finished computing cum sentence bleu for {ctr} src target pairs\")\n",
    "        ctr += 1\n",
    "\n",
    "    return scores / len(test_iter)"
   ]
  },
  {
   "cell_type": "code",
   "execution_count": null,
   "metadata": {},
   "outputs": [],
   "source": [
    "# checkpoint = torch.load(pl.Path(checkpoint_folder)/model_name)\n",
    "# transformer.load_state_dict(checkpoint['model_state_dict'])\n",
    "\n",
    "chrf_score = test_chrf(transformer)\n",
    "print(\"=========== chrF ===========\")\n",
    "print(f\"chrf_score: {chrf_score}\")\n",
    "# print()\n",
    "# #testing all smoothing methods. god cannot save us\n",
    "# for method_num in range(8):\n",
    "#     bleu_test_scores = test_sentence_bleu(transformer, method_num=method_num)\n",
    "#     print(f\"=========== CUM BLEU with smoothing method {method_num} ===========\")\n",
    "#     print(f\"BLEU-1 sentence bleu score: {bleu_test_scores[0]}\")\n",
    "#     print(f\"BLEU-2 sentence bleu score: {bleu_test_scores[1]}\")\n",
    "#     print(f\"BLEU-3 sentence bleu score: {bleu_test_scores[2]}\")\n",
    "#     print(f\"BLEU-4 sentence bleu score: {bleu_test_scores[3]}\")\n"
   ]
  },
  {
   "cell_type": "code",
   "execution_count": null,
   "metadata": {},
   "outputs": [],
   "source": [
    "#testing all smoothing methods. god cannot save us\n",
    "bleu_test_scores = test_sentence_bleu(transformer)\n",
    "print(f\"=========== CUM BLEU with smoothing method 0 (default) ===========\")\n",
    "print(f\"BLEU-1 sentence bleu score: {bleu_test_scores[0]}\")\n",
    "print(f\"BLEU-2 sentence bleu score: {bleu_test_scores[1]}\")\n",
    "print(f\"BLEU-3 sentence bleu score: {bleu_test_scores[2]}\")\n",
    "print(f\"BLEU-4 sentence bleu score: {bleu_test_scores[3]}\")"
   ]
  },
  {
   "cell_type": "code",
   "execution_count": null,
   "metadata": {},
   "outputs": [],
   "source": [
    "control_bleu_scores = control_sentence_bleu(transformer, method_num=0)\n",
    "for method_num in range(8):\n",
    "    control_bleu_scores = control_sentence_bleu(transformer, method_num=method_num)\n",
    "    print(f\"=========== CUM BLEU with smoothing method {method_num} ===========\")\n",
    "    print(f\"BLEU-1 sentence bleu score: {control_bleu_scores[0]}\")\n",
    "    print(f\"BLEU-2 sentence bleu score: {control_bleu_scores[1]}\")\n",
    "    print(f\"BLEU-3 sentence bleu score: {control_bleu_scores[2]}\")\n",
    "    print(f\"BLEU-4 sentence bleu score: {control_bleu_scores[3]}\")"
   ]
  },
  {
   "cell_type": "code",
   "execution_count": null,
   "metadata": {},
   "outputs": [],
   "source": [
    "from datasets import load_metric\n",
    "rouge_metric = load_metric(\"rouge\")\n",
    "\n",
    "transformer.eval()\n",
    "\n",
    "pred_sentences = []\n",
    "tgt_sentences = []\n",
    "test_iter = Hdf5Dataset(test_filename, num_entries=VALID_SAMPLES)\n",
    "test_dataloader = DataLoader(test_iter, batch_size=64, collate_fn=test_collate_fn)\n",
    "for src, tgt in test_dataloader:\n",
    "    src_mask, _, src_padding_mask, _ = create_mask(src, src)\n",
    "    num_tokens = src.shape[0]\n",
    "    with torch.no_grad():\n",
    "        pred_tokens = greedy_decode(\n",
    "            transformer,  src, src_mask,src_padding_mask, max_len=num_tokens + 5).T.flatten()\n",
    "        pred_sentence = ' '.join([vocab_transform[SRC_LANGUAGE].vocab.itos_[i] for i in pred_tokens if i not in [PAD_IDX,BOS_IDX,EOS_IDX]])\n",
    "        pred_sentence = re.sub(r'\\s([?.!,\"](?:\\s|$))', r'\\1', pred_sentence)\n",
    "        pred_sentences.append(pred_sentence + '\\n')\n",
    "        tgt_sentences.append(' '.join(tgt).lower() + '\\n')\n",
    "\n",
    "print(len(pred_sentences))\n",
    "print(len(tgt_sentences))\n"
   ]
  },
  {
   "cell_type": "code",
   "execution_count": null,
   "metadata": {},
   "outputs": [],
   "source": [
    "result = rouge_metric.compute(predictions=pred_sentences, references=tgt_sentences, use_stemmer=True)\n",
    "# Extract a few results\n",
    "result = {key: value.mid.fmeasure * 100 for key, value in result.items()}"
   ]
  },
  {
   "cell_type": "code",
   "execution_count": null,
   "metadata": {},
   "outputs": [],
   "source": [
    "# Add mean generated length\n",
    "prediction_lens = [np.count_nonzero(pred != special_symbols[1]) for pred in pred_sentences]\n",
    "result[\"gen_len\"] = np.mean(prediction_lens)\n",
    "final_result = {k: round(v, 4) for k, v in result.items()}\n",
    "print(final_result)"
   ]
  },
  {
   "cell_type": "markdown",
   "metadata": {
    "papermill": {
     "duration": 0.009627,
     "end_time": "2022-09-17T19:53:09.359895",
     "exception": false,
     "start_time": "2022-09-17T19:53:09.350268",
     "status": "completed"
    },
    "pycharm": {
     "name": "#%% md\n"
    },
    "tags": []
   },
   "source": [
    "<a name=\"6\"></a>\n",
    "# 6. Experiments\n",
    "\n",
    "## Attention heads\n",
    "I have evaluated how the number of attention heads is related with performance by training models with a different number of attention heads, and by varying also the embedding dimension.\n",
    "In rows (A), we can see that an increase of the number of attention heads alone does not bring an increase in performance: moreover, the model with 2 attention heads performs significantly worse than the model with only one attention heads.\n",
    "A motivation for this could be the fact that the increase of the number of attention heads reduces the dimensionality of each head, since the dimensionality is given by\n",
    "\n",
    "$$d_k=d_v=d_{emb}/h$$\n",
    "\n",
    "Where $d_k$ is the dimension of the key vector, $d_v$ the dimension of the value vector of the attention, $d_{emb}$ is the length of the embedding vectors and h is the number of heads.\n",
    "\n",
    "If a multi-head attention approach is combined with an increase of the embedding dimension, the models reach a better performance than the base model, and also better than the increase of the embedding dimension alone.\n",
    "\n",
    "## Feed Forward dimension\n",
    "A second experiment evaluated the performance of models with a different dimension of the feed forward network of each Transformer layer.\n",
    "The experiments in rows (B) show the dimension of the base model of 256 is the best performing dimension, and bigger networks did not perform better.\n",
    "\n",
    "## Transformer layers\n",
    "A third experiment evaluated the performance of models with a different number of Transformer layers.\n",
    "In rows (C), the model with only 2 Transformer layers reached the same performance of the base model on the test set, while bigger models show worse performance.\n",
    "\n",
    "## Dropout\n",
    "The last experiment evaluated the performance of models by changing the dropout that is applied to the output of each sub-layer of the Transformer unit, and also to the sum of the embeddings and the positional encodings in both the encoder and the decoder.\n",
    "In Table 2 rows (D), the model without dropout shows lower perplexity, but shows worse performance on the chrF metric calculated on the test dataset, which confirms the importance of the  dropout to enable a better generalization of the model. Higher dropout values did not bring an improvement to the current training process.\n",
    "\n",
    "## Label smoothing\n",
    "The model with dropout and label smoothing achieved a chrF score slightly worse than the base model (which did not use label smoothing) , and a much higher perplexity score (as expected) .\n",
    "\n",
    "|         | $N$ | $d_{emb}$ | $d_{\\text{ff}}$ | $h$ | $P_{\\text{dropout}}$ | $\\varepsilon_{ls}$ | train epochs | PPL(valid) | chrF(test) | parameters $\\times 10^6$ |\n",
    "|---------|-----|-----------|-----------------|:---:|----------------------|--------------------|--------------|------------|------------|--------------------------|\n",
    "| base    | 3   | 100       | 256             | 1   | 0.1                  |                    | 20           | 5.91       | 0.74       | 6.7                      |\n",
    "| (A)     |     |           |                 | 2   |                      |                    |              | 6.03       | 0.58       |                          |\n",
    "| (A)     |     | 200       |                 | 2   |                      |                    |              | 4.58       | 0.76       | 14.1                     |\n",
    "| (A)     |     | 200       |                 |     |                      |                    |              | 4.63       | 0.75       | 14.1                     |\n",
    "| (A)     |     |           |                 | 4   |                      |                    |              | 5.93       | 0.74       |                          |\n",
    "| (A)     |     | 400       |                 | 4   |                      |                    |              | 3.80       | 0.77       | 31.0                     |\n",
    "| (A)     |     | 400       |                 |     |                      |                    |              | 3.87       | 0.74       | 31.0                     |\n",
    "| (A)     |     |           |                 | 5   |                      |                    |              | 6.02       | 0.73       | 6.7                      |\n",
    "| (B)     |     |           | 128             |     |                      |                    |              | 5.85       | 0.66       | 6.5                      |\n",
    "| (B)     |     |           | 512             |     |                      |                    |              | 7.77       | 0.52       | 7.0                      |\n",
    "| (C)     | 1   |           |                 |     |                      |                    |              | 6.99       | 0.65       | 6.2                      |\n",
    "| (C)     | 2   |           |                 |     |                      |                    |              | **5.85**   | **0.74**   | 6.5                      |\n",
    "| (C)     | 4   |           |                 |     |                      |                    |              | 7.92       | 0.66       | 6.9                      |\n",
    "| (C)     | 5   |           |                 |     |                      |                    |              | 7.97       | 0.51       | 7.1                      |\n",
    "| (D)     |     |           |                 |     | 0                    |                    |              | 4.78       | 0.46       | 6.7                      |\n",
    "| (D)     |     |           |                 |     | 0.2                  |                    |              | 7.51       | 0.74       | 6.7                      |\n",
    "| (D)     |     |           |                 |     | 0                    |                    |              |            |            |                          |\n",
    "| (D)     |     |           |                 |     | 0.1                  |                    |              |            |            |                          |\n",
    "| large   | 6   | 256       | 512             | 4   |                      | 0.1                | 20           | 14.3       | 0.72       | 19.3                     |\n",
    "| X-large | 6   | 512       | 1024            | 8   |                      |                    | 40           |            | 0.09       | 62.0                     |\n",
    "\n",
    "Other experiments with changes of the vocabulary dimension or using pretrained vocabularies did not show acceptable results.\n",
    "\n",
    "|   | Embeddings                 | N | $d_{\\text{ff}}$ | $h$ | chrF(test) |\n",
    "|---|----------------------------|---|-----------------|-----|------------|\n",
    "|   | No pretraining (10K vocab) | 2 | 128             | 2   | 0.59       |\n",
    "|   | No pretraining (20K vocab) | 2 | 128             | 2   | 0.64       |\n",
    "|   | No pretraining (50K vocab) | 2 | 128             | 2   | 0.65       |\n",
    "|   | GloVe Twitter 100D         | 2 | 128             | 2   | 0.47       |\n",
    "|   | GloVe 6B 100D (50K vocab)  | 3 | 256             | 5   | 0.44       |"
   ]
  },
  {
   "cell_type": "markdown",
   "metadata": {
    "papermill": {
     "duration": 0.009718,
     "end_time": "2022-09-17T19:53:09.379561",
     "exception": false,
     "start_time": "2022-09-17T19:53:09.369843",
     "status": "completed"
    },
    "pycharm": {
     "name": "#%% md\n"
    },
    "tags": []
   },
   "source": [
    "<a name=\"7\"></a>\n",
    "# Discussion\n",
    "\n",
    "## Training process\n",
    "Transformer models usually require a much longer training time in order to obtain satisfactory results. The previous experiments were constrained in time and in GPU memory capacity, but still managed to obtain a model with good representation of the english language.\n",
    "The training method used in the experiments is also much simpler than the one used in ([Vaswani et al. ,2017](<https://papers.nips.cc/paper/2017/file/3f5ee243547dee91fbd053c1c4a845aa-Paper.pdf>)), where it was used a learning rate schedule, with linearly increasing learning rate during the warmup phase and an inverse square root annealing.\n",
    "\n",
    "The X-large model training could not converge with the used training process. A lower learning rate or a more sophisticated training process could have helped the convergence. In every other experiment the training process reached the convergence without any issues.\n",
    "\n",
    "## Rare word problem\n",
    "Word embeddings show major limitations when the model needs to correct out-of-vocabulary tokens ([Yuan and Briscoe, 2016](https://aclanthology.org/N16-1042/)).\n",
    "- The vocabulary size is limited due to memory constraints, therefore rare words, such as proper nouns or misspelled words are replaced with the UNK token.\n",
    "- Using the same vocabulary for the input and the target, the model learns to generate an OOV token when the inputs contains one and not tries to perform inference of a likely word in the context.\n",
    "This model is not able to correct misspelled words, but also cannot keep some error-free original rare words.\n",
    "\n",
    "The solution described in ([Yuan and Briscoe, 2016](https://aclanthology.org/N16-1042/)) requires the alignment of the tokens in the source and target sequences, and translate separately UNK tokens with a different model.\n",
    "An alternative approach could be to use Wordpiece vocabularies, where unknown words are split into subwords, such as in BERT model.\n",
    "\n",
    "## Inference\n",
    "\n",
    "The greedy search approach shows evident limits in the prediction of the first tokens, and may not find the highest probability sentence.\n",
    "A more powerful approach is the Beam Search, in which the model carries along several generated sequences, which can be represented as a tree where each branch corresponds to a different sequence. At the end, the sequence with highest probility is chosen.\n",
    "While this method brings much better results, it has a higher memory footprint and a much higher complexity in the algorithm, thus it was not used in the experiments."
   ]
  },
  {
   "cell_type": "markdown",
   "metadata": {
    "papermill": {
     "duration": 0.009914,
     "end_time": "2022-09-17T19:53:09.399256",
     "exception": false,
     "start_time": "2022-09-17T19:53:09.389342",
     "status": "completed"
    },
    "pycharm": {
     "name": "#%% md\n"
    },
    "tags": []
   },
   "source": [
    "<a name=\"8\"></a>\n",
    "# References\n",
    "- [Attention is all you need](https://proceedings.neurips.cc/paper/2017/file/3f5ee243547dee91fbd053c1c4a845aa-Paper.pdf)\n",
    "- [Pytorch Transformer tutorials](https://pytorch.org/tutorials/beginner/translation_transformer.html#data-sourcing-and-processing)\n",
    "- [The annotated Transformer](https://nlp.seas.harvard.edu/annotated-transformer/)\n",
    "- [Speech and Language Processing](https://web.stanford.edu/~jurafsky/slp3/)"
   ]
  },
  {
   "cell_type": "code",
   "execution_count": null,
   "metadata": {},
   "outputs": [],
   "source": [
    "# lets free all the memory now\n",
    "# courtesy: https://stackoverflow.com/questions/70508960/how-to-free-gpu-memory-in-pytorch\n",
    "from torch import cuda\n",
    "\n",
    "def get_less_used_gpu(gpus=None, debug=False):\n",
    "    \"\"\"Inspect cached/reserved and allocated memory on specified gpus and return the id of the less used device\"\"\"\n",
    "    if gpus is None:\n",
    "        warn = 'Falling back to default: all gpus'\n",
    "        gpus = range(cuda.device_count())\n",
    "    elif isinstance(gpus, str):\n",
    "        gpus = [int(el) for el in gpus.split(',')]\n",
    "\n",
    "    # check gpus arg VS available gpus\n",
    "    sys_gpus = list(range(cuda.device_count()))\n",
    "    if len(gpus) > len(sys_gpus):\n",
    "        gpus = sys_gpus\n",
    "        warn = f'WARNING: Specified {len(gpus)} gpus, but only {cuda.device_count()} available. Falling back to default: all gpus.\\nIDs:\\t{list(gpus)}'\n",
    "    elif set(gpus).difference(sys_gpus):\n",
    "        # take correctly specified and add as much bad specifications as unused system gpus\n",
    "        available_gpus = set(gpus).intersection(sys_gpus)\n",
    "        unavailable_gpus = set(gpus).difference(sys_gpus)\n",
    "        unused_gpus = set(sys_gpus).difference(gpus)\n",
    "        gpus = list(available_gpus) + list(unused_gpus)[:len(unavailable_gpus)]\n",
    "        warn = f'GPU ids {unavailable_gpus} not available. Falling back to {len(gpus)} device(s).\\nIDs:\\t{list(gpus)}'\n",
    "\n",
    "    cur_allocated_mem = {}\n",
    "    cur_cached_mem = {}\n",
    "    max_allocated_mem = {}\n",
    "    max_cached_mem = {}\n",
    "    for i in gpus:\n",
    "        cur_allocated_mem[i] = cuda.memory_allocated(i)\n",
    "        cur_cached_mem[i] = cuda.memory_reserved(i)\n",
    "        max_allocated_mem[i] = cuda.max_memory_allocated(i)\n",
    "        max_cached_mem[i] = cuda.max_memory_reserved(i)\n",
    "    min_allocated = min(cur_allocated_mem, key=cur_allocated_mem.get)\n",
    "    if debug:\n",
    "        print(warn)\n",
    "        print('Current allocated memory:', {f'cuda:{k}': v for k, v in cur_allocated_mem.items()})\n",
    "        print('Current reserved memory:', {f'cuda:{k}': v for k, v in cur_cached_mem.items()})\n",
    "        print('Maximum allocated memory:', {f'cuda:{k}': v for k, v in max_allocated_mem.items()})\n",
    "        print('Maximum reserved memory:', {f'cuda:{k}': v for k, v in max_cached_mem.items()})\n",
    "        print('Suggested GPU:', min_allocated)\n",
    "    return min_allocated\n",
    "\n",
    "\n",
    "def free_memory(to_delete: list, debug=False):\n",
    "    import gc\n",
    "    import inspect\n",
    "    calling_namespace = inspect.currentframe().f_back\n",
    "    if debug:\n",
    "        print('Before:')\n",
    "        get_less_used_gpu(debug=True)\n",
    "\n",
    "    for _var in to_delete:\n",
    "        calling_namespace.f_locals.pop(_var, None)\n",
    "        gc.collect()\n",
    "        cuda.empty_cache()\n",
    "    if debug:\n",
    "        print('After:')\n",
    "        get_less_used_gpu(debug=True)"
   ]
  },
  {
   "cell_type": "code",
   "execution_count": null,
   "metadata": {},
   "outputs": [],
   "source": [
    "free_memory([0], debug=True)"
   ]
  }
 ],
 "metadata": {
  "kernelspec": {
   "display_name": "Python 3 (ipykernel)",
   "language": "python",
   "name": "python3"
  },
  "language_info": {
   "codemirror_mode": {
    "name": "ipython",
    "version": 3
   },
   "file_extension": ".py",
   "mimetype": "text/x-python",
   "name": "python",
   "nbconvert_exporter": "python",
   "pygments_lexer": "ipython3",
   "version": "3.11.3"
  }
 },
 "nbformat": 4,
 "nbformat_minor": 4
}
